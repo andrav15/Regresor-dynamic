{
  "nbformat": 4,
  "nbformat_minor": 0,
  "metadata": {
    "colab": {
      "provenance": [],
      "authorship_tag": "ABX9TyODIoRugp0//E3uW3pAh4uo",
      "include_colab_link": true
    },
    "kernelspec": {
      "name": "python3",
      "display_name": "Python 3"
    },
    "language_info": {
      "name": "python"
    }
  },
  "cells": [
    {
      "cell_type": "markdown",
      "metadata": {
        "id": "view-in-github",
        "colab_type": "text"
      },
      "source": [
        "<a href=\"https://colab.research.google.com/github/andrav15/Regresor-dynamic/blob/main/Regresor_dynamic.ipynb\" target=\"_parent\"><img src=\"https://colab.research.google.com/assets/colab-badge.svg\" alt=\"Open In Colab\"/></a>"
      ]
    },
    {
      "cell_type": "code",
      "execution_count": 1,
      "metadata": {
        "id": "8oiiSGwA5Htm"
      },
      "outputs": [],
      "source": [
        "import random\n",
        "import torch\n",
        "import math"
      ]
    },
    {
      "cell_type": "code",
      "source": [
        "class DynamicNet(torch.nn.Module):\n",
        "    def __init__(self):\n",
        "        \"\"\"\n",
        "        In the constructor we instantiate five parameters and assign them as members.\n",
        "        \"\"\"\n",
        "        super().__init__()#cls parinte\n",
        "        self.a = torch.nn.Parameter(torch.randn(()))#genereaza val rando dintr-o distributie normala standard(media 0, deviatia standard 1)\n",
        "        self.b = torch.nn.Parameter(torch.randn(()))\n",
        "        self.c = torch.nn.Parameter(torch.randn(()))\n",
        "        self.d = torch.nn.Parameter(torch.randn(()))\n",
        "        self.e = torch.nn.Parameter(torch.randn(()))\n",
        "\n",
        "    def forward(self, x):#modul in care modelul va produce pred pe baza lui x\n",
        "        \"\"\"\n",
        "        For the forward pass of the model, we randomly choose either 4, 5\n",
        "        and reuse the e parameter to compute the contribution of these orders.\n",
        "\n",
        "        Since each forward pass builds a dynamic computation graph, we can use normal\n",
        "        Python control-flow operators like loops or conditional statements when\n",
        "        defining the forward pass of the model.\n",
        "\n",
        "        Here we also see that it is perfectly safe to reuse the same parameter many\n",
        "        times when defining a computational graph.\n",
        "        \"\"\"\n",
        "        y = self.a + self.b * x + self.c * x ** 2 + self.d * x ** 3#fct polinomiala\n",
        "        for exp in range(4, random.randint(4, 6)):#determina rando daca sa se includa trmenul suplimentar de grad 4 sau 5\n",
        "            y = y + self.e * x ** exp#aduce o dinamica supl modelului->adaptare mai buna la datele de antrenare\n",
        "        return y\n",
        "\n",
        "    def string(self):\n",
        "        \"\"\"\n",
        "        Just like any class in Python, you can also define custom method on PyTorch modules\n",
        "        \"\"\"\n",
        "        return f'y = {self.a.item()} + {self.b.item()} x + {self.c.item()} x^2 + {self.d.item()} x^3 + {self.e.item()} x^4 ? + {self.e.item()} x^5 ?'"
      ],
      "metadata": {
        "id": "fYF_g9dv5Yms"
      },
      "execution_count": 2,
      "outputs": []
    },
    {
      "cell_type": "code",
      "source": [
        "x = torch.linspace(-math.pi, math.pi, 2000)\n",
        "y = torch.sin(x)"
      ],
      "metadata": {
        "id": "-TUH66zu6Y68"
      },
      "execution_count": 3,
      "outputs": []
    },
    {
      "cell_type": "code",
      "source": [
        "model = DynamicNet()"
      ],
      "metadata": {
        "id": "nrR1pBa46de5"
      },
      "execution_count": 4,
      "outputs": []
    },
    {
      "cell_type": "code",
      "source": [
        "criterion = torch.nn.MSELoss(reduction='sum')\n",
        "optimizer = torch.optim.SGD(model.parameters(), lr=1e-8, momentum=0.9)\n",
        "#SGD:alg de optimizare utilizat pt minimzarea fct de pierdere->actual param prin efectuarea de pasi mici in directia negativa a grad\n",
        "#momentum ajuta la accelerarea SGD in directia relevanta si atenueaza oscilatiile.\n",
        "#tine evidenta grad de mai sus si ajuta la netezirea actualizarilor.\n",
        "#momentum=.9=>90% din actualizarea anterioara influenteaza actualizarea curenta"
      ],
      "metadata": {
        "id": "G4FaX3kg6gMl"
      },
      "execution_count": 5,
      "outputs": []
    },
    {
      "cell_type": "code",
      "source": [
        "for t in range(30000):#30000 de epoci\n",
        "    # Forward pass: Compute predicted y by passing x to the model\n",
        "    y_pred = model(x)#ia tensorul de intrare x->iesire y_pred predictia modelului\n",
        "\n",
        "    # Compute and print loss\n",
        "    loss = criterion(y_pred, y)#compara predictia modelului cu cea reala->calculul pierderii\n",
        "    if t % 2000 == 1999:#verif daca epoca curenta este la fiecare 2000 de iterarii; true->print nr epocii curente si pierderea\n",
        "        print(t, loss.item())\n",
        "\n",
        "    # Zero gradients, perform a backward pass, and update the weights.\n",
        "    optimizer.zero_grad()#resetam grad\n",
        "    loss.backward()#backpropagation=>calc gradientelor pierderii in raport cu param modelului\n",
        "    optimizer.step()#actualizarea greutatilor\n",
        "\n",
        "print(f'Result: {model.string()}')"
      ],
      "metadata": {
        "colab": {
          "base_uri": "https://localhost:8080/"
        },
        "id": "GzDQCTHM7Pwe",
        "outputId": "3edad822-efd2-4296-ea10-c197c2c3434b"
      },
      "execution_count": 6,
      "outputs": [
        {
          "output_type": "stream",
          "name": "stdout",
          "text": [
            "1999 4641.08349609375\n",
            "3999 2232.379638671875\n",
            "5999 1080.21533203125\n",
            "7999 499.7969665527344\n",
            "9999 257.72613525390625\n",
            "11999 130.2945098876953\n",
            "13999 67.63865661621094\n",
            "15999 36.90419006347656\n",
            "17999 22.710865020751953\n",
            "19999 15.393253326416016\n",
            "21999 12.1082124710083\n",
            "23999 10.381576538085938\n",
            "25999 9.59962272644043\n",
            "27999 9.208240509033203\n",
            "29999 9.014098167419434\n",
            "Result: y = -0.013405775651335716 + 0.8523516654968262 x + 0.001866192207671702 x^2 + -0.09291037917137146 x^3 + 7.302005542442203e-05 x^4 ? + 7.302005542442203e-05 x^5 ?\n"
          ]
        }
      ]
    }
  ]
}